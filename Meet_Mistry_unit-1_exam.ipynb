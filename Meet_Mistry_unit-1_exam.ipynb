{
 "cells": [
  {
   "cell_type": "markdown",
   "metadata": {},
   "source": [
    "## Meet Mistry"
   ]
  },
  {
   "cell_type": "code",
   "execution_count": 1,
   "metadata": {},
   "outputs": [],
   "source": [
    "import pandas as pd\n",
    "import numpy as np \n",
    "import matplotlib.pyplot as plt \n",
    "import seaborn as sns\n",
    "import tensorflow as tf\n",
    "from tensorflow import keras\n",
    "from tensorflow.keras import layers\n",
    "from keras.models import Sequential\n",
    "from keras.layers import Dense\n",
    "from sklearn.preprocessing import StandardScaler\n",
    "from sklearn.model_selection import train_test_split"
   ]
  },
  {
   "cell_type": "code",
   "execution_count": 2,
   "metadata": {},
   "outputs": [],
   "source": [
    "\n",
    "df = pd.read_csv('train-data.csv')"
   ]
  },
  {
   "cell_type": "code",
   "execution_count": 3,
   "metadata": {},
   "outputs": [
    {
     "data": {
      "text/html": [
       "<div>\n",
       "<style scoped>\n",
       "    .dataframe tbody tr th:only-of-type {\n",
       "        vertical-align: middle;\n",
       "    }\n",
       "\n",
       "    .dataframe tbody tr th {\n",
       "        vertical-align: top;\n",
       "    }\n",
       "\n",
       "    .dataframe thead th {\n",
       "        text-align: right;\n",
       "    }\n",
       "</style>\n",
       "<table border=\"1\" class=\"dataframe\">\n",
       "  <thead>\n",
       "    <tr style=\"text-align: right;\">\n",
       "      <th></th>\n",
       "      <th>Unnamed: 0</th>\n",
       "      <th>Name</th>\n",
       "      <th>Location</th>\n",
       "      <th>Year</th>\n",
       "      <th>Kilometers_Driven</th>\n",
       "      <th>Fuel_Type</th>\n",
       "      <th>Transmission</th>\n",
       "      <th>Owner_Type</th>\n",
       "      <th>Mileage</th>\n",
       "      <th>Engine</th>\n",
       "      <th>Power</th>\n",
       "      <th>Seats</th>\n",
       "      <th>New_Price</th>\n",
       "      <th>Price</th>\n",
       "    </tr>\n",
       "  </thead>\n",
       "  <tbody>\n",
       "    <tr>\n",
       "      <th>0</th>\n",
       "      <td>0</td>\n",
       "      <td>Maruti Wagon R LXI CNG</td>\n",
       "      <td>Mumbai</td>\n",
       "      <td>2010</td>\n",
       "      <td>72000</td>\n",
       "      <td>CNG</td>\n",
       "      <td>Manual</td>\n",
       "      <td>First</td>\n",
       "      <td>26.6 km/kg</td>\n",
       "      <td>998 CC</td>\n",
       "      <td>58.16 bhp</td>\n",
       "      <td>5.0</td>\n",
       "      <td>NaN</td>\n",
       "      <td>1.75</td>\n",
       "    </tr>\n",
       "    <tr>\n",
       "      <th>1</th>\n",
       "      <td>1</td>\n",
       "      <td>Hyundai Creta 1.6 CRDi SX Option</td>\n",
       "      <td>Pune</td>\n",
       "      <td>2015</td>\n",
       "      <td>41000</td>\n",
       "      <td>Diesel</td>\n",
       "      <td>Manual</td>\n",
       "      <td>First</td>\n",
       "      <td>19.67 kmpl</td>\n",
       "      <td>1582 CC</td>\n",
       "      <td>126.2 bhp</td>\n",
       "      <td>5.0</td>\n",
       "      <td>NaN</td>\n",
       "      <td>12.50</td>\n",
       "    </tr>\n",
       "    <tr>\n",
       "      <th>2</th>\n",
       "      <td>2</td>\n",
       "      <td>Honda Jazz V</td>\n",
       "      <td>Chennai</td>\n",
       "      <td>2011</td>\n",
       "      <td>46000</td>\n",
       "      <td>Petrol</td>\n",
       "      <td>Manual</td>\n",
       "      <td>First</td>\n",
       "      <td>18.2 kmpl</td>\n",
       "      <td>1199 CC</td>\n",
       "      <td>88.7 bhp</td>\n",
       "      <td>5.0</td>\n",
       "      <td>8.61 Lakh</td>\n",
       "      <td>4.50</td>\n",
       "    </tr>\n",
       "    <tr>\n",
       "      <th>3</th>\n",
       "      <td>3</td>\n",
       "      <td>Maruti Ertiga VDI</td>\n",
       "      <td>Chennai</td>\n",
       "      <td>2012</td>\n",
       "      <td>87000</td>\n",
       "      <td>Diesel</td>\n",
       "      <td>Manual</td>\n",
       "      <td>First</td>\n",
       "      <td>20.77 kmpl</td>\n",
       "      <td>1248 CC</td>\n",
       "      <td>88.76 bhp</td>\n",
       "      <td>7.0</td>\n",
       "      <td>NaN</td>\n",
       "      <td>6.00</td>\n",
       "    </tr>\n",
       "    <tr>\n",
       "      <th>4</th>\n",
       "      <td>4</td>\n",
       "      <td>Audi A4 New 2.0 TDI Multitronic</td>\n",
       "      <td>Coimbatore</td>\n",
       "      <td>2013</td>\n",
       "      <td>40670</td>\n",
       "      <td>Diesel</td>\n",
       "      <td>Automatic</td>\n",
       "      <td>Second</td>\n",
       "      <td>15.2 kmpl</td>\n",
       "      <td>1968 CC</td>\n",
       "      <td>140.8 bhp</td>\n",
       "      <td>5.0</td>\n",
       "      <td>NaN</td>\n",
       "      <td>17.74</td>\n",
       "    </tr>\n",
       "  </tbody>\n",
       "</table>\n",
       "</div>"
      ],
      "text/plain": [
       "   Unnamed: 0                              Name    Location  Year  \\\n",
       "0           0            Maruti Wagon R LXI CNG      Mumbai  2010   \n",
       "1           1  Hyundai Creta 1.6 CRDi SX Option        Pune  2015   \n",
       "2           2                      Honda Jazz V     Chennai  2011   \n",
       "3           3                 Maruti Ertiga VDI     Chennai  2012   \n",
       "4           4   Audi A4 New 2.0 TDI Multitronic  Coimbatore  2013   \n",
       "\n",
       "   Kilometers_Driven Fuel_Type Transmission Owner_Type     Mileage   Engine  \\\n",
       "0              72000       CNG       Manual      First  26.6 km/kg   998 CC   \n",
       "1              41000    Diesel       Manual      First  19.67 kmpl  1582 CC   \n",
       "2              46000    Petrol       Manual      First   18.2 kmpl  1199 CC   \n",
       "3              87000    Diesel       Manual      First  20.77 kmpl  1248 CC   \n",
       "4              40670    Diesel    Automatic     Second   15.2 kmpl  1968 CC   \n",
       "\n",
       "       Power  Seats  New_Price  Price  \n",
       "0  58.16 bhp    5.0        NaN   1.75  \n",
       "1  126.2 bhp    5.0        NaN  12.50  \n",
       "2   88.7 bhp    5.0  8.61 Lakh   4.50  \n",
       "3  88.76 bhp    7.0        NaN   6.00  \n",
       "4  140.8 bhp    5.0        NaN  17.74  "
      ]
     },
     "execution_count": 3,
     "metadata": {},
     "output_type": "execute_result"
    }
   ],
   "source": [
    "df.head()"
   ]
  },
  {
   "cell_type": "code",
   "execution_count": 4,
   "metadata": {},
   "outputs": [
    {
     "data": {
      "text/plain": [
       "(6019, 14)"
      ]
     },
     "execution_count": 4,
     "metadata": {},
     "output_type": "execute_result"
    }
   ],
   "source": [
    "\n",
    "df.shape"
   ]
  },
  {
   "cell_type": "code",
   "execution_count": 5,
   "metadata": {},
   "outputs": [],
   "source": [
    "df.drop(columns=['Unnamed: 0','New_Price','Name','Location'], axis=1 ,inplace=True)"
   ]
  },
  {
   "cell_type": "code",
   "execution_count": 6,
   "metadata": {},
   "outputs": [],
   "source": [
    "indx = df[df['Power'] == 'null bhp'].index"
   ]
  },
  {
   "cell_type": "code",
   "execution_count": 7,
   "metadata": {},
   "outputs": [
    {
     "data": {
      "text/plain": [
       "(107,)"
      ]
     },
     "execution_count": 7,
     "metadata": {},
     "output_type": "execute_result"
    }
   ],
   "source": [
    "indx.shape"
   ]
  },
  {
   "cell_type": "code",
   "execution_count": 8,
   "metadata": {},
   "outputs": [],
   "source": [
    "\n",
    "df.drop(indx, axis=0, inplace=True)"
   ]
  },
  {
   "cell_type": "code",
   "execution_count": 9,
   "metadata": {},
   "outputs": [],
   "source": [
    "df['Mileage'] = df['Mileage'].str.split(' ').str[0]\n",
    "df['Engine'] = df['Engine'].str.split(' ').str[0]\n",
    "df['Power'] = df['Power'].str.split(' ').str[0]"
   ]
  },
  {
   "cell_type": "code",
   "execution_count": 10,
   "metadata": {},
   "outputs": [],
   "source": [
    "df['Mileage'] = df['Mileage'].astype(float)\n",
    "df['Engine'] = df['Engine'].astype(float)\n",
    "df['Power'] = df['Power'].astype(float)"
   ]
  },
  {
   "cell_type": "code",
   "execution_count": 11,
   "metadata": {},
   "outputs": [
    {
     "data": {
      "text/html": [
       "<div>\n",
       "<style scoped>\n",
       "    .dataframe tbody tr th:only-of-type {\n",
       "        vertical-align: middle;\n",
       "    }\n",
       "\n",
       "    .dataframe tbody tr th {\n",
       "        vertical-align: top;\n",
       "    }\n",
       "\n",
       "    .dataframe thead th {\n",
       "        text-align: right;\n",
       "    }\n",
       "</style>\n",
       "<table border=\"1\" class=\"dataframe\">\n",
       "  <thead>\n",
       "    <tr style=\"text-align: right;\">\n",
       "      <th></th>\n",
       "      <th>Year</th>\n",
       "      <th>Kilometers_Driven</th>\n",
       "      <th>Fuel_Type</th>\n",
       "      <th>Transmission</th>\n",
       "      <th>Owner_Type</th>\n",
       "      <th>Mileage</th>\n",
       "      <th>Engine</th>\n",
       "      <th>Power</th>\n",
       "      <th>Seats</th>\n",
       "      <th>Price</th>\n",
       "    </tr>\n",
       "  </thead>\n",
       "  <tbody>\n",
       "    <tr>\n",
       "      <th>0</th>\n",
       "      <td>2010</td>\n",
       "      <td>72000</td>\n",
       "      <td>CNG</td>\n",
       "      <td>Manual</td>\n",
       "      <td>First</td>\n",
       "      <td>26.60</td>\n",
       "      <td>998.0</td>\n",
       "      <td>58.16</td>\n",
       "      <td>5.0</td>\n",
       "      <td>1.75</td>\n",
       "    </tr>\n",
       "    <tr>\n",
       "      <th>1</th>\n",
       "      <td>2015</td>\n",
       "      <td>41000</td>\n",
       "      <td>Diesel</td>\n",
       "      <td>Manual</td>\n",
       "      <td>First</td>\n",
       "      <td>19.67</td>\n",
       "      <td>1582.0</td>\n",
       "      <td>126.20</td>\n",
       "      <td>5.0</td>\n",
       "      <td>12.50</td>\n",
       "    </tr>\n",
       "    <tr>\n",
       "      <th>2</th>\n",
       "      <td>2011</td>\n",
       "      <td>46000</td>\n",
       "      <td>Petrol</td>\n",
       "      <td>Manual</td>\n",
       "      <td>First</td>\n",
       "      <td>18.20</td>\n",
       "      <td>1199.0</td>\n",
       "      <td>88.70</td>\n",
       "      <td>5.0</td>\n",
       "      <td>4.50</td>\n",
       "    </tr>\n",
       "    <tr>\n",
       "      <th>3</th>\n",
       "      <td>2012</td>\n",
       "      <td>87000</td>\n",
       "      <td>Diesel</td>\n",
       "      <td>Manual</td>\n",
       "      <td>First</td>\n",
       "      <td>20.77</td>\n",
       "      <td>1248.0</td>\n",
       "      <td>88.76</td>\n",
       "      <td>7.0</td>\n",
       "      <td>6.00</td>\n",
       "    </tr>\n",
       "    <tr>\n",
       "      <th>4</th>\n",
       "      <td>2013</td>\n",
       "      <td>40670</td>\n",
       "      <td>Diesel</td>\n",
       "      <td>Automatic</td>\n",
       "      <td>Second</td>\n",
       "      <td>15.20</td>\n",
       "      <td>1968.0</td>\n",
       "      <td>140.80</td>\n",
       "      <td>5.0</td>\n",
       "      <td>17.74</td>\n",
       "    </tr>\n",
       "  </tbody>\n",
       "</table>\n",
       "</div>"
      ],
      "text/plain": [
       "   Year  Kilometers_Driven Fuel_Type Transmission Owner_Type  Mileage  Engine  \\\n",
       "0  2010              72000       CNG       Manual      First    26.60   998.0   \n",
       "1  2015              41000    Diesel       Manual      First    19.67  1582.0   \n",
       "2  2011              46000    Petrol       Manual      First    18.20  1199.0   \n",
       "3  2012              87000    Diesel       Manual      First    20.77  1248.0   \n",
       "4  2013              40670    Diesel    Automatic     Second    15.20  1968.0   \n",
       "\n",
       "    Power  Seats  Price  \n",
       "0   58.16    5.0   1.75  \n",
       "1  126.20    5.0  12.50  \n",
       "2   88.70    5.0   4.50  \n",
       "3   88.76    7.0   6.00  \n",
       "4  140.80    5.0  17.74  "
      ]
     },
     "execution_count": 11,
     "metadata": {},
     "output_type": "execute_result"
    }
   ],
   "source": [
    "df.head()"
   ]
  },
  {
   "cell_type": "code",
   "execution_count": 12,
   "metadata": {},
   "outputs": [
    {
     "data": {
      "text/plain": [
       "Year                  0\n",
       "Kilometers_Driven     0\n",
       "Fuel_Type             0\n",
       "Transmission          0\n",
       "Owner_Type            0\n",
       "Mileage               2\n",
       "Engine               36\n",
       "Power                36\n",
       "Seats                38\n",
       "Price                 0\n",
       "dtype: int64"
      ]
     },
     "execution_count": 12,
     "metadata": {},
     "output_type": "execute_result"
    }
   ],
   "source": [
    "df.isna().sum()"
   ]
  },
  {
   "cell_type": "code",
   "execution_count": 13,
   "metadata": {},
   "outputs": [],
   "source": [
    "df['Mileage'] = df['Mileage'].fillna(df['Mileage'].median())\n",
    "df['Engine'] = df['Engine'].fillna(df['Engine'].median())\n",
    "df['Power'] = df['Power'].fillna(df['Power'].median())\n",
    "df['Seats'] = df['Seats'].fillna(df['Seats'].median())"
   ]
  },
  {
   "cell_type": "code",
   "execution_count": 14,
   "metadata": {},
   "outputs": [
    {
     "data": {
      "text/plain": [
       "Year                 0\n",
       "Kilometers_Driven    0\n",
       "Fuel_Type            0\n",
       "Transmission         0\n",
       "Owner_Type           0\n",
       "Mileage              0\n",
       "Engine               0\n",
       "Power                0\n",
       "Seats                0\n",
       "Price                0\n",
       "dtype: int64"
      ]
     },
     "execution_count": 14,
     "metadata": {},
     "output_type": "execute_result"
    }
   ],
   "source": [
    "df.isna().sum()"
   ]
  },
  {
   "cell_type": "code",
   "execution_count": 15,
   "metadata": {},
   "outputs": [
    {
     "name": "stdout",
     "output_type": "stream",
     "text": [
      "Fuel_Type: ['CNG' 'Diesel' 'Petrol' 'LPG' 'Electric']\n",
      "\n",
      "Transmission: ['Manual' 'Automatic']\n",
      "\n",
      "Owner_Type: ['First' 'Second' 'Fourth & Above' 'Third']\n",
      "\n"
     ]
    }
   ],
   "source": [
    "\n",
    "for col in df.select_dtypes(include=['object']).columns:\n",
    "    print(f\"{col}: {df[col].unique()}\\n\")"
   ]
  },
  {
   "cell_type": "code",
   "execution_count": 16,
   "metadata": {},
   "outputs": [
    {
     "name": "stdout",
     "output_type": "stream",
     "text": [
      "Fuel_Type: [0 1 4 3 2]\n",
      "Transmission: [1 0]\n",
      "Owner_Type: [0 2 1 3]\n"
     ]
    }
   ],
   "source": [
    "from sklearn import preprocessing\n",
    "for col in df.select_dtypes(include=['object']).columns:\n",
    "\n",
    "    label_encoder = preprocessing.LabelEncoder()\n",
    "    label_encoder.fit(df[col].unique())\n",
    "    df[col] = label_encoder.transform(df[col])\n",
    "    print(f\"{col}: {df[col].unique()}\")"
   ]
  },
  {
   "cell_type": "code",
   "execution_count": 17,
   "metadata": {},
   "outputs": [
    {
     "name": "stdout",
     "output_type": "stream",
     "text": [
      "<class 'pandas.core.frame.DataFrame'>\n",
      "Int64Index: 5912 entries, 0 to 6018\n",
      "Data columns (total 10 columns):\n",
      " #   Column             Non-Null Count  Dtype  \n",
      "---  ------             --------------  -----  \n",
      " 0   Year               5912 non-null   int64  \n",
      " 1   Kilometers_Driven  5912 non-null   int64  \n",
      " 2   Fuel_Type          5912 non-null   int32  \n",
      " 3   Transmission       5912 non-null   int32  \n",
      " 4   Owner_Type         5912 non-null   int32  \n",
      " 5   Mileage            5912 non-null   float64\n",
      " 6   Engine             5912 non-null   float64\n",
      " 7   Power              5912 non-null   float64\n",
      " 8   Seats              5912 non-null   float64\n",
      " 9   Price              5912 non-null   float64\n",
      "dtypes: float64(5), int32(3), int64(2)\n",
      "memory usage: 438.8 KB\n"
     ]
    }
   ],
   "source": [
    "df.info()"
   ]
  },
  {
   "cell_type": "code",
   "execution_count": 18,
   "metadata": {},
   "outputs": [
    {
     "data": {
      "text/html": [
       "<div>\n",
       "<style scoped>\n",
       "    .dataframe tbody tr th:only-of-type {\n",
       "        vertical-align: middle;\n",
       "    }\n",
       "\n",
       "    .dataframe tbody tr th {\n",
       "        vertical-align: top;\n",
       "    }\n",
       "\n",
       "    .dataframe thead th {\n",
       "        text-align: right;\n",
       "    }\n",
       "</style>\n",
       "<table border=\"1\" class=\"dataframe\">\n",
       "  <thead>\n",
       "    <tr style=\"text-align: right;\">\n",
       "      <th></th>\n",
       "      <th>Year</th>\n",
       "      <th>Kilometers_Driven</th>\n",
       "      <th>Fuel_Type</th>\n",
       "      <th>Transmission</th>\n",
       "      <th>Owner_Type</th>\n",
       "      <th>Mileage</th>\n",
       "      <th>Engine</th>\n",
       "      <th>Power</th>\n",
       "      <th>Seats</th>\n",
       "      <th>Price</th>\n",
       "    </tr>\n",
       "  </thead>\n",
       "  <tbody>\n",
       "    <tr>\n",
       "      <th>0</th>\n",
       "      <td>2010</td>\n",
       "      <td>72000</td>\n",
       "      <td>0</td>\n",
       "      <td>1</td>\n",
       "      <td>0</td>\n",
       "      <td>26.60</td>\n",
       "      <td>998.0</td>\n",
       "      <td>58.16</td>\n",
       "      <td>5.0</td>\n",
       "      <td>1.75</td>\n",
       "    </tr>\n",
       "    <tr>\n",
       "      <th>1</th>\n",
       "      <td>2015</td>\n",
       "      <td>41000</td>\n",
       "      <td>1</td>\n",
       "      <td>1</td>\n",
       "      <td>0</td>\n",
       "      <td>19.67</td>\n",
       "      <td>1582.0</td>\n",
       "      <td>126.20</td>\n",
       "      <td>5.0</td>\n",
       "      <td>12.50</td>\n",
       "    </tr>\n",
       "    <tr>\n",
       "      <th>2</th>\n",
       "      <td>2011</td>\n",
       "      <td>46000</td>\n",
       "      <td>4</td>\n",
       "      <td>1</td>\n",
       "      <td>0</td>\n",
       "      <td>18.20</td>\n",
       "      <td>1199.0</td>\n",
       "      <td>88.70</td>\n",
       "      <td>5.0</td>\n",
       "      <td>4.50</td>\n",
       "    </tr>\n",
       "    <tr>\n",
       "      <th>3</th>\n",
       "      <td>2012</td>\n",
       "      <td>87000</td>\n",
       "      <td>1</td>\n",
       "      <td>1</td>\n",
       "      <td>0</td>\n",
       "      <td>20.77</td>\n",
       "      <td>1248.0</td>\n",
       "      <td>88.76</td>\n",
       "      <td>7.0</td>\n",
       "      <td>6.00</td>\n",
       "    </tr>\n",
       "    <tr>\n",
       "      <th>4</th>\n",
       "      <td>2013</td>\n",
       "      <td>40670</td>\n",
       "      <td>1</td>\n",
       "      <td>0</td>\n",
       "      <td>2</td>\n",
       "      <td>15.20</td>\n",
       "      <td>1968.0</td>\n",
       "      <td>140.80</td>\n",
       "      <td>5.0</td>\n",
       "      <td>17.74</td>\n",
       "    </tr>\n",
       "  </tbody>\n",
       "</table>\n",
       "</div>"
      ],
      "text/plain": [
       "   Year  Kilometers_Driven  Fuel_Type  Transmission  Owner_Type  Mileage  \\\n",
       "0  2010              72000          0             1           0    26.60   \n",
       "1  2015              41000          1             1           0    19.67   \n",
       "2  2011              46000          4             1           0    18.20   \n",
       "3  2012              87000          1             1           0    20.77   \n",
       "4  2013              40670          1             0           2    15.20   \n",
       "\n",
       "   Engine   Power  Seats  Price  \n",
       "0   998.0   58.16    5.0   1.75  \n",
       "1  1582.0  126.20    5.0  12.50  \n",
       "2  1199.0   88.70    5.0   4.50  \n",
       "3  1248.0   88.76    7.0   6.00  \n",
       "4  1968.0  140.80    5.0  17.74  "
      ]
     },
     "execution_count": 18,
     "metadata": {},
     "output_type": "execute_result"
    }
   ],
   "source": [
    "df.head()"
   ]
  },
  {
   "cell_type": "code",
   "execution_count": 19,
   "metadata": {},
   "outputs": [],
   "source": [
    "x = df.drop('Price',axis=1)\n",
    "y = df[['Price']]"
   ]
  },
  {
   "cell_type": "code",
   "execution_count": 20,
   "metadata": {},
   "outputs": [
    {
     "data": {
      "text/plain": [
       "((5912, 9), (5912, 1))"
      ]
     },
     "execution_count": 20,
     "metadata": {},
     "output_type": "execute_result"
    }
   ],
   "source": [
    "x.shape , y.shape"
   ]
  },
  {
   "cell_type": "code",
   "execution_count": 21,
   "metadata": {},
   "outputs": [],
   "source": [
    "x_train_full, x_test, y_train_full, y_test = train_test_split(x,y, random_state=42)\n",
    "x_train, x_valid, y_train, y_valid = train_test_split(x_train_full,y_train_full, random_state=42)\n"
   ]
  },
  {
   "cell_type": "code",
   "execution_count": 22,
   "metadata": {},
   "outputs": [
    {
     "name": "stdout",
     "output_type": "stream",
     "text": [
      "(4434, 9)\n",
      "(1478, 9)\n",
      "(3325, 9)\n",
      "(1109, 9)\n"
     ]
    }
   ],
   "source": [
    "print(x_train_full.shape)\n",
    "print(x_test.shape)\n",
    "print(x_train.shape)\n",
    "print(x_valid.shape)"
   ]
  },
  {
   "cell_type": "code",
   "execution_count": 23,
   "metadata": {},
   "outputs": [],
   "source": [
    "scl = StandardScaler()\n",
    "x_train = scl.fit_transform(x_train)\n",
    "x_valid = scl.transform(x_valid)\n",
    "x_test = scl.transform(x_test)"
   ]
  },
  {
   "cell_type": "code",
   "execution_count": 24,
   "metadata": {},
   "outputs": [],
   "source": [
    "Layers = [\n",
    "    tf.keras.layers.Dense(10,activation='relu', input_shape=x_train.shape[1:],kernel_regularizer=tf.keras.regularizers.l2(0.05)),\n",
    "    tf.keras.layers.Dense(5,activation='relu',kernel_regularizer=tf.keras.regularizers.l2(0.05)),\n",
    "    tf.keras.layers.Dense(1)\n",
    "\n",
    "]"
   ]
  },
  {
   "cell_type": "code",
   "execution_count": 25,
   "metadata": {},
   "outputs": [],
   "source": [
    "model= tf.keras.models.Sequential(Layers)"
   ]
  },
  {
   "cell_type": "code",
   "execution_count": 26,
   "metadata": {},
   "outputs": [
    {
     "name": "stdout",
     "output_type": "stream",
     "text": [
      "Model: \"sequential\"\n",
      "_________________________________________________________________\n",
      " Layer (type)                Output Shape              Param #   \n",
      "=================================================================\n",
      " dense (Dense)               (None, 10)                100       \n",
      "                                                                 \n",
      " dense_1 (Dense)             (None, 5)                 55        \n",
      "                                                                 \n",
      " dense_2 (Dense)             (None, 1)                 6         \n",
      "                                                                 \n",
      "=================================================================\n",
      "Total params: 161\n",
      "Trainable params: 161\n",
      "Non-trainable params: 0\n",
      "_________________________________________________________________\n"
     ]
    }
   ],
   "source": [
    "model.summary()"
   ]
  },
  {
   "cell_type": "code",
   "execution_count": 27,
   "metadata": {},
   "outputs": [],
   "source": [
    "model.compile(loss='mse',optimizer=tf.keras.optimizers.Adam(0.001))"
   ]
  },
  {
   "cell_type": "code",
   "execution_count": 28,
   "metadata": {},
   "outputs": [
    {
     "name": "stdout",
     "output_type": "stream",
     "text": [
      "Epoch 1/150\n",
      "104/104 [==============================] - 1s 4ms/step - loss: 207.4693 - val_loss: 188.1321\n",
      "Epoch 2/150\n",
      "104/104 [==============================] - 0s 2ms/step - loss: 154.4388 - val_loss: 119.2199\n",
      "Epoch 3/150\n",
      "104/104 [==============================] - 0s 2ms/step - loss: 79.5578 - val_loss: 52.8267\n",
      "Epoch 4/150\n",
      "104/104 [==============================] - 0s 2ms/step - loss: 41.2748 - val_loss: 38.4619\n",
      "Epoch 5/150\n",
      "104/104 [==============================] - 0s 2ms/step - loss: 34.3823 - val_loss: 35.0326\n",
      "Epoch 6/150\n",
      "104/104 [==============================] - 0s 2ms/step - loss: 31.8887 - val_loss: 33.1633\n",
      "Epoch 7/150\n",
      "104/104 [==============================] - 0s 2ms/step - loss: 30.3966 - val_loss: 31.9454\n",
      "Epoch 8/150\n",
      "104/104 [==============================] - 0s 2ms/step - loss: 29.3672 - val_loss: 31.2111\n",
      "Epoch 9/150\n",
      "104/104 [==============================] - 0s 2ms/step - loss: 28.5753 - val_loss: 30.3123\n",
      "Epoch 10/150\n",
      "104/104 [==============================] - 0s 2ms/step - loss: 28.0339 - val_loss: 29.8190\n",
      "Epoch 11/150\n",
      "104/104 [==============================] - 0s 2ms/step - loss: 27.5072 - val_loss: 29.4179\n",
      "Epoch 12/150\n",
      "104/104 [==============================] - 0s 2ms/step - loss: 27.1038 - val_loss: 29.0431\n",
      "Epoch 13/150\n",
      "104/104 [==============================] - 0s 2ms/step - loss: 26.8501 - val_loss: 28.8157\n",
      "Epoch 14/150\n",
      "104/104 [==============================] - 0s 3ms/step - loss: 26.5541 - val_loss: 28.5858\n",
      "Epoch 15/150\n",
      "104/104 [==============================] - 0s 2ms/step - loss: 26.2788 - val_loss: 28.3905\n",
      "Epoch 16/150\n",
      "104/104 [==============================] - 0s 2ms/step - loss: 26.0680 - val_loss: 28.1980\n",
      "Epoch 17/150\n",
      "104/104 [==============================] - 0s 2ms/step - loss: 25.9074 - val_loss: 28.0716\n",
      "Epoch 18/150\n",
      "104/104 [==============================] - 0s 2ms/step - loss: 25.7053 - val_loss: 28.1250\n",
      "Epoch 19/150\n",
      "104/104 [==============================] - 0s 2ms/step - loss: 25.8093 - val_loss: 27.7716\n",
      "Epoch 20/150\n",
      "104/104 [==============================] - 0s 2ms/step - loss: 25.5862 - val_loss: 27.6787\n",
      "Epoch 21/150\n",
      "104/104 [==============================] - 0s 2ms/step - loss: 25.3841 - val_loss: 27.5485\n",
      "Epoch 22/150\n",
      "104/104 [==============================] - 0s 2ms/step - loss: 25.2347 - val_loss: 27.5714\n",
      "Epoch 23/150\n",
      "104/104 [==============================] - 0s 2ms/step - loss: 25.1713 - val_loss: 27.4291\n",
      "Epoch 24/150\n",
      "104/104 [==============================] - 0s 2ms/step - loss: 25.0087 - val_loss: 27.2401\n",
      "Epoch 25/150\n",
      "104/104 [==============================] - 0s 2ms/step - loss: 24.7968 - val_loss: 27.1568\n",
      "Epoch 26/150\n",
      "104/104 [==============================] - 0s 2ms/step - loss: 24.8159 - val_loss: 27.0637\n",
      "Epoch 27/150\n",
      "104/104 [==============================] - 0s 2ms/step - loss: 24.6326 - val_loss: 26.9955\n",
      "Epoch 28/150\n",
      "104/104 [==============================] - 0s 2ms/step - loss: 24.5336 - val_loss: 26.9815\n",
      "Epoch 29/150\n",
      "104/104 [==============================] - 0s 2ms/step - loss: 24.4979 - val_loss: 26.9331\n",
      "Epoch 30/150\n",
      "104/104 [==============================] - 0s 2ms/step - loss: 24.3690 - val_loss: 26.7816\n",
      "Epoch 31/150\n",
      "104/104 [==============================] - 0s 2ms/step - loss: 24.2856 - val_loss: 26.6691\n",
      "Epoch 32/150\n",
      "104/104 [==============================] - 0s 2ms/step - loss: 24.1136 - val_loss: 26.4998\n",
      "Epoch 33/150\n",
      "104/104 [==============================] - 0s 2ms/step - loss: 24.0638 - val_loss: 26.4447\n",
      "Epoch 34/150\n",
      "104/104 [==============================] - 0s 2ms/step - loss: 24.0126 - val_loss: 26.3441\n",
      "Epoch 35/150\n",
      "104/104 [==============================] - 0s 2ms/step - loss: 23.8491 - val_loss: 26.2080\n",
      "Epoch 36/150\n",
      "104/104 [==============================] - 0s 2ms/step - loss: 23.6616 - val_loss: 26.1676\n",
      "Epoch 37/150\n",
      "104/104 [==============================] - 0s 2ms/step - loss: 23.5110 - val_loss: 26.0686\n",
      "Epoch 38/150\n",
      "104/104 [==============================] - 0s 2ms/step - loss: 23.4678 - val_loss: 26.1747\n",
      "Epoch 39/150\n",
      "104/104 [==============================] - 0s 2ms/step - loss: 23.4153 - val_loss: 25.8270\n",
      "Epoch 40/150\n",
      "104/104 [==============================] - 0s 2ms/step - loss: 23.1369 - val_loss: 25.7313\n",
      "Epoch 41/150\n",
      "104/104 [==============================] - 0s 2ms/step - loss: 23.0221 - val_loss: 25.6267\n",
      "Epoch 42/150\n",
      "104/104 [==============================] - 0s 2ms/step - loss: 23.0641 - val_loss: 25.5366\n",
      "Epoch 43/150\n",
      "104/104 [==============================] - 0s 2ms/step - loss: 22.8935 - val_loss: 25.4998\n",
      "Epoch 44/150\n",
      "104/104 [==============================] - 0s 2ms/step - loss: 22.7327 - val_loss: 25.3317\n",
      "Epoch 45/150\n",
      "104/104 [==============================] - 0s 2ms/step - loss: 22.6876 - val_loss: 25.2628\n",
      "Epoch 46/150\n",
      "104/104 [==============================] - 0s 2ms/step - loss: 22.5840 - val_loss: 25.1898\n",
      "Epoch 47/150\n",
      "104/104 [==============================] - 0s 2ms/step - loss: 22.4521 - val_loss: 25.1572\n",
      "Epoch 48/150\n",
      "104/104 [==============================] - 0s 2ms/step - loss: 22.6066 - val_loss: 25.1234\n",
      "Epoch 49/150\n",
      "104/104 [==============================] - 0s 2ms/step - loss: 22.3011 - val_loss: 25.0427\n",
      "Epoch 50/150\n",
      "104/104 [==============================] - 0s 2ms/step - loss: 22.2090 - val_loss: 24.9603\n",
      "Epoch 51/150\n",
      "104/104 [==============================] - 0s 2ms/step - loss: 22.1640 - val_loss: 24.9042\n",
      "Epoch 52/150\n",
      "104/104 [==============================] - 0s 2ms/step - loss: 22.1182 - val_loss: 24.8793\n",
      "Epoch 53/150\n",
      "104/104 [==============================] - 0s 2ms/step - loss: 22.0471 - val_loss: 24.8603\n",
      "Epoch 54/150\n",
      "104/104 [==============================] - 0s 2ms/step - loss: 21.8907 - val_loss: 25.2004\n",
      "Epoch 55/150\n",
      "104/104 [==============================] - 0s 2ms/step - loss: 22.0732 - val_loss: 24.8586\n",
      "Epoch 56/150\n",
      "104/104 [==============================] - 0s 2ms/step - loss: 21.9395 - val_loss: 24.7169\n",
      "Epoch 57/150\n",
      "104/104 [==============================] - 0s 2ms/step - loss: 21.8662 - val_loss: 24.7342\n",
      "Epoch 58/150\n",
      "104/104 [==============================] - 0s 2ms/step - loss: 21.7451 - val_loss: 24.7020\n",
      "Epoch 59/150\n",
      "104/104 [==============================] - 0s 2ms/step - loss: 21.6916 - val_loss: 24.7595\n",
      "Epoch 60/150\n",
      "104/104 [==============================] - 0s 2ms/step - loss: 21.7904 - val_loss: 24.8720\n",
      "Epoch 61/150\n",
      "104/104 [==============================] - 0s 2ms/step - loss: 21.7510 - val_loss: 24.5976\n",
      "Epoch 62/150\n",
      "104/104 [==============================] - 0s 2ms/step - loss: 21.5947 - val_loss: 24.5514\n",
      "Epoch 63/150\n",
      "104/104 [==============================] - 0s 2ms/step - loss: 21.6494 - val_loss: 24.5162\n",
      "Epoch 64/150\n",
      "104/104 [==============================] - 0s 2ms/step - loss: 21.5434 - val_loss: 24.5378\n",
      "Epoch 65/150\n",
      "104/104 [==============================] - 0s 2ms/step - loss: 21.4625 - val_loss: 24.6537\n",
      "Epoch 66/150\n",
      "104/104 [==============================] - 0s 2ms/step - loss: 21.3957 - val_loss: 24.5212\n",
      "Epoch 67/150\n",
      "104/104 [==============================] - 0s 2ms/step - loss: 21.4480 - val_loss: 24.5107\n",
      "Epoch 68/150\n",
      "104/104 [==============================] - 0s 2ms/step - loss: 21.3586 - val_loss: 24.8133\n",
      "Epoch 69/150\n",
      "104/104 [==============================] - 0s 2ms/step - loss: 21.5208 - val_loss: 24.4472\n",
      "Epoch 70/150\n",
      "104/104 [==============================] - 0s 2ms/step - loss: 21.5231 - val_loss: 24.7552\n",
      "Epoch 71/150\n",
      "104/104 [==============================] - 0s 2ms/step - loss: 21.1499 - val_loss: 24.5286\n",
      "Epoch 72/150\n",
      "104/104 [==============================] - 0s 2ms/step - loss: 21.3096 - val_loss: 24.3691\n",
      "Epoch 73/150\n",
      "104/104 [==============================] - 0s 2ms/step - loss: 21.1516 - val_loss: 24.5650\n",
      "Epoch 74/150\n",
      "104/104 [==============================] - 0s 2ms/step - loss: 21.1569 - val_loss: 24.3616\n",
      "Epoch 75/150\n",
      "104/104 [==============================] - 0s 2ms/step - loss: 21.1176 - val_loss: 24.3181\n",
      "Epoch 76/150\n",
      "104/104 [==============================] - 0s 3ms/step - loss: 21.0491 - val_loss: 24.3451\n",
      "Epoch 77/150\n",
      "104/104 [==============================] - 0s 2ms/step - loss: 21.0979 - val_loss: 24.2796\n",
      "Epoch 78/150\n",
      "104/104 [==============================] - 0s 2ms/step - loss: 20.9890 - val_loss: 24.4037\n",
      "Epoch 79/150\n",
      "104/104 [==============================] - 0s 2ms/step - loss: 21.0185 - val_loss: 24.2707\n"
     ]
    },
    {
     "name": "stdout",
     "output_type": "stream",
     "text": [
      "Epoch 80/150\n",
      "104/104 [==============================] - 0s 3ms/step - loss: 21.2015 - val_loss: 24.3027\n",
      "Epoch 81/150\n",
      "104/104 [==============================] - 0s 2ms/step - loss: 20.8756 - val_loss: 24.2838\n",
      "Epoch 82/150\n",
      "104/104 [==============================] - 0s 2ms/step - loss: 20.8687 - val_loss: 24.2364\n",
      "Epoch 83/150\n",
      "104/104 [==============================] - 0s 2ms/step - loss: 20.8303 - val_loss: 24.2228\n",
      "Epoch 84/150\n",
      "104/104 [==============================] - 0s 2ms/step - loss: 20.8448 - val_loss: 24.2895\n",
      "Epoch 85/150\n",
      "104/104 [==============================] - 0s 3ms/step - loss: 20.9945 - val_loss: 24.2455\n",
      "Epoch 86/150\n",
      "104/104 [==============================] - 0s 2ms/step - loss: 20.8011 - val_loss: 24.1936\n",
      "Epoch 87/150\n",
      "104/104 [==============================] - 0s 2ms/step - loss: 20.8212 - val_loss: 24.2436\n",
      "Epoch 88/150\n",
      "104/104 [==============================] - 0s 2ms/step - loss: 20.8036 - val_loss: 24.2606\n",
      "Epoch 89/150\n",
      "104/104 [==============================] - 0s 2ms/step - loss: 20.7731 - val_loss: 24.2074\n",
      "Epoch 90/150\n",
      "104/104 [==============================] - 0s 2ms/step - loss: 20.7109 - val_loss: 24.2008\n",
      "Epoch 91/150\n",
      "104/104 [==============================] - 0s 2ms/step - loss: 20.6427 - val_loss: 24.2143\n",
      "Epoch 92/150\n",
      "104/104 [==============================] - 0s 2ms/step - loss: 20.6596 - val_loss: 24.1772\n",
      "Epoch 93/150\n",
      "104/104 [==============================] - 0s 2ms/step - loss: 20.6378 - val_loss: 24.1949\n",
      "Epoch 94/150\n",
      "104/104 [==============================] - 0s 2ms/step - loss: 20.6254 - val_loss: 24.2090\n",
      "Epoch 95/150\n",
      "104/104 [==============================] - 0s 2ms/step - loss: 20.6106 - val_loss: 24.1639\n",
      "Epoch 96/150\n",
      "104/104 [==============================] - 0s 2ms/step - loss: 20.5647 - val_loss: 24.1161\n",
      "Epoch 97/150\n",
      "104/104 [==============================] - 0s 2ms/step - loss: 20.4525 - val_loss: 24.2466\n",
      "Epoch 98/150\n",
      "104/104 [==============================] - 0s 2ms/step - loss: 20.4924 - val_loss: 24.0694\n",
      "Epoch 99/150\n",
      "104/104 [==============================] - 0s 2ms/step - loss: 20.4972 - val_loss: 24.0890\n",
      "Epoch 100/150\n",
      "104/104 [==============================] - 0s 2ms/step - loss: 20.4676 - val_loss: 24.0642\n",
      "Epoch 101/150\n",
      "104/104 [==============================] - 0s 2ms/step - loss: 20.4645 - val_loss: 24.2300\n",
      "Epoch 102/150\n",
      "104/104 [==============================] - 0s 2ms/step - loss: 20.4374 - val_loss: 24.0782\n",
      "Epoch 103/150\n",
      "104/104 [==============================] - 0s 2ms/step - loss: 20.4137 - val_loss: 24.2512\n",
      "Epoch 104/150\n",
      "104/104 [==============================] - 0s 2ms/step - loss: 20.4381 - val_loss: 24.0970\n",
      "Epoch 105/150\n",
      "104/104 [==============================] - 0s 2ms/step - loss: 20.3555 - val_loss: 24.0236\n",
      "Epoch 106/150\n",
      "104/104 [==============================] - 0s 2ms/step - loss: 20.3226 - val_loss: 24.1336\n",
      "Epoch 107/150\n",
      "104/104 [==============================] - 0s 2ms/step - loss: 20.4082 - val_loss: 24.1012\n",
      "Epoch 108/150\n",
      "104/104 [==============================] - 0s 2ms/step - loss: 20.3649 - val_loss: 24.1199\n",
      "Epoch 109/150\n",
      "104/104 [==============================] - 0s 2ms/step - loss: 20.3302 - val_loss: 24.0863\n",
      "Epoch 110/150\n",
      "104/104 [==============================] - 0s 2ms/step - loss: 20.3424 - val_loss: 24.0572\n",
      "Epoch 111/150\n",
      "104/104 [==============================] - 0s 2ms/step - loss: 20.3109 - val_loss: 24.1085\n",
      "Epoch 112/150\n",
      "104/104 [==============================] - 0s 2ms/step - loss: 20.3788 - val_loss: 24.3238\n",
      "Epoch 113/150\n",
      "104/104 [==============================] - 0s 2ms/step - loss: 20.3841 - val_loss: 24.2084\n",
      "Epoch 114/150\n",
      "104/104 [==============================] - 0s 2ms/step - loss: 20.1719 - val_loss: 24.0828\n",
      "Epoch 115/150\n",
      "104/104 [==============================] - 0s 2ms/step - loss: 20.1001 - val_loss: 24.6434\n",
      "Epoch 116/150\n",
      "104/104 [==============================] - 0s 2ms/step - loss: 20.1560 - val_loss: 24.3680\n",
      "Epoch 117/150\n",
      "104/104 [==============================] - 0s 2ms/step - loss: 20.1983 - val_loss: 24.0449\n",
      "Epoch 118/150\n",
      "104/104 [==============================] - 0s 2ms/step - loss: 20.1604 - val_loss: 24.0928\n",
      "Epoch 119/150\n",
      "104/104 [==============================] - 0s 2ms/step - loss: 20.0797 - val_loss: 24.3278\n",
      "Epoch 120/150\n",
      "104/104 [==============================] - 0s 2ms/step - loss: 20.0582 - val_loss: 24.1253\n",
      "Epoch 121/150\n",
      "104/104 [==============================] - 0s 2ms/step - loss: 20.1476 - val_loss: 24.1562\n",
      "Epoch 122/150\n",
      "104/104 [==============================] - 0s 2ms/step - loss: 20.0581 - val_loss: 24.0956\n",
      "Epoch 123/150\n",
      "104/104 [==============================] - 0s 2ms/step - loss: 20.0912 - val_loss: 24.0877\n",
      "Epoch 124/150\n",
      "104/104 [==============================] - 0s 2ms/step - loss: 20.0216 - val_loss: 24.0930\n",
      "Epoch 125/150\n",
      "104/104 [==============================] - 0s 2ms/step - loss: 20.0470 - val_loss: 24.2979\n",
      "Epoch 126/150\n",
      "104/104 [==============================] - 0s 2ms/step - loss: 19.9741 - val_loss: 24.0886\n",
      "Epoch 127/150\n",
      "104/104 [==============================] - 0s 2ms/step - loss: 19.9096 - val_loss: 24.1772\n",
      "Epoch 128/150\n",
      "104/104 [==============================] - 0s 2ms/step - loss: 20.0985 - val_loss: 24.1077\n",
      "Epoch 129/150\n",
      "104/104 [==============================] - 0s 2ms/step - loss: 19.9307 - val_loss: 24.1580\n",
      "Epoch 130/150\n",
      "104/104 [==============================] - 0s 2ms/step - loss: 20.0140 - val_loss: 24.1085\n",
      "Epoch 131/150\n",
      "104/104 [==============================] - 0s 2ms/step - loss: 20.0621 - val_loss: 24.1100\n",
      "Epoch 132/150\n",
      "104/104 [==============================] - 0s 2ms/step - loss: 19.9035 - val_loss: 24.0823\n",
      "Epoch 133/150\n",
      "104/104 [==============================] - 0s 2ms/step - loss: 19.8519 - val_loss: 24.1158\n",
      "Epoch 134/150\n",
      "104/104 [==============================] - 0s 2ms/step - loss: 20.0935 - val_loss: 24.0888\n",
      "Epoch 135/150\n",
      "104/104 [==============================] - 0s 2ms/step - loss: 19.8862 - val_loss: 24.1677\n",
      "Epoch 136/150\n",
      "104/104 [==============================] - 0s 2ms/step - loss: 19.8405 - val_loss: 24.0558\n",
      "Epoch 137/150\n",
      "104/104 [==============================] - 0s 2ms/step - loss: 19.8248 - val_loss: 24.0693\n",
      "Epoch 138/150\n",
      "104/104 [==============================] - 0s 2ms/step - loss: 19.8608 - val_loss: 24.0792\n",
      "Epoch 139/150\n",
      "104/104 [==============================] - 0s 2ms/step - loss: 19.8644 - val_loss: 24.1145\n",
      "Epoch 140/150\n",
      "104/104 [==============================] - 0s 2ms/step - loss: 19.8259 - val_loss: 24.0313\n",
      "Epoch 141/150\n",
      "104/104 [==============================] - 0s 2ms/step - loss: 19.9633 - val_loss: 24.1896\n",
      "Epoch 142/150\n",
      "104/104 [==============================] - 0s 2ms/step - loss: 19.6798 - val_loss: 24.2733\n",
      "Epoch 143/150\n",
      "104/104 [==============================] - 0s 2ms/step - loss: 19.5424 - val_loss: 24.6342\n",
      "Epoch 144/150\n",
      "104/104 [==============================] - 0s 2ms/step - loss: 20.0960 - val_loss: 24.2339\n",
      "Epoch 145/150\n",
      "104/104 [==============================] - 0s 2ms/step - loss: 19.9190 - val_loss: 24.2476\n",
      "Epoch 146/150\n",
      "104/104 [==============================] - 0s 2ms/step - loss: 19.8306 - val_loss: 24.1375\n",
      "Epoch 147/150\n",
      "104/104 [==============================] - 0s 2ms/step - loss: 19.7772 - val_loss: 24.1072\n",
      "Epoch 148/150\n",
      "104/104 [==============================] - 0s 2ms/step - loss: 19.7531 - val_loss: 24.0950\n",
      "Epoch 149/150\n",
      "104/104 [==============================] - 0s 2ms/step - loss: 19.6447 - val_loss: 24.1973\n",
      "Epoch 150/150\n",
      "104/104 [==============================] - 0s 2ms/step - loss: 19.7247 - val_loss: 24.3132\n"
     ]
    }
   ],
   "source": [
    "history = model.fit(x_train,y_train,epochs=150,validation_data=(x_valid,y_valid))\n"
   ]
  },
  {
   "cell_type": "code",
   "execution_count": 29,
   "metadata": {},
   "outputs": [
    {
     "name": "stdout",
     "output_type": "stream",
     "text": [
      "47/47 [==============================] - 0s 2ms/step - loss: 15.5636\n"
     ]
    },
    {
     "data": {
      "text/plain": [
       "15.563562393188477"
      ]
     },
     "execution_count": 29,
     "metadata": {},
     "output_type": "execute_result"
    }
   ],
   "source": [
    "model.evaluate(x_test,y_test)"
   ]
  },
  {
   "cell_type": "code",
   "execution_count": 30,
   "metadata": {},
   "outputs": [
    {
     "name": "stdout",
     "output_type": "stream",
     "text": [
      "104/104 [==============================] - 0s 1ms/step\n"
     ]
    }
   ],
   "source": [
    "ypred = model.predict(x_train)"
   ]
  },
  {
   "cell_type": "code",
   "execution_count": 31,
   "metadata": {},
   "outputs": [
    {
     "data": {
      "text/plain": [
       "(1478, 9)"
      ]
     },
     "execution_count": 31,
     "metadata": {},
     "output_type": "execute_result"
    }
   ],
   "source": [
    "x_test.shape"
   ]
  },
  {
   "cell_type": "code",
   "execution_count": 32,
   "metadata": {},
   "outputs": [],
   "source": [
    "new = x_test[0]"
   ]
  },
  {
   "cell_type": "code",
   "execution_count": 33,
   "metadata": {},
   "outputs": [
    {
     "data": {
      "text/plain": [
       "array([[-0.15485486, -0.15943014, -0.91968116, -1.56155996,  2.03896892,\n",
       "        -0.09226515,  2.27891102,  3.51442323, -1.59025775]])"
      ]
     },
     "execution_count": 33,
     "metadata": {},
     "output_type": "execute_result"
    }
   ],
   "source": [
    "new.reshape((1,9))"
   ]
  },
  {
   "cell_type": "code",
   "execution_count": 34,
   "metadata": {},
   "outputs": [
    {
     "name": "stdout",
     "output_type": "stream",
     "text": [
      "1/1 [==============================] - 0s 30ms/step\n"
     ]
    },
    {
     "data": {
      "text/plain": [
       "array([[40.138397]], dtype=float32)"
      ]
     },
     "execution_count": 34,
     "metadata": {},
     "output_type": "execute_result"
    }
   ],
   "source": [
    "model.predict(new.reshape((1,9)))"
   ]
  },
  {
   "cell_type": "code",
   "execution_count": null,
   "metadata": {},
   "outputs": [],
   "source": []
  }
 ],
 "metadata": {
  "kernelspec": {
   "display_name": "NewEnv",
   "language": "python",
   "name": "newenv"
  },
  "language_info": {
   "codemirror_mode": {
    "name": "ipython",
    "version": 3
   },
   "file_extension": ".py",
   "mimetype": "text/x-python",
   "name": "python",
   "nbconvert_exporter": "python",
   "pygments_lexer": "ipython3",
   "version": "3.10.8"
  }
 },
 "nbformat": 4,
 "nbformat_minor": 2
}
